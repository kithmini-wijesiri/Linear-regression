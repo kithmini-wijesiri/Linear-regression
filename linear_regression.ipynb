{
  "nbformat": 4,
  "nbformat_minor": 0,
  "metadata": {
    "colab": {
      "provenance": []
    },
    "kernelspec": {
      "name": "python3",
      "display_name": "Python 3"
    },
    "language_info": {
      "name": "python"
    }
  },
  "cells": [
    {
      "cell_type": "markdown",
      "source": [
        "question 1"
      ],
      "metadata": {
        "id": "HGkd3NcxgbPY"
      }
    },
    {
      "cell_type": "code",
      "execution_count": 3,
      "metadata": {
        "id": "3xs10CBgCuNg"
      },
      "outputs": [],
      "source": [
        "# load in basic libraries\n",
        "from autograd import numpy as np\n",
        "import matplotlib.pyplot as plt\n",
        "import pandas as pd\n",
        "import sys\n",
        "sys.path.append('../')\n",
        "datapath = './'"
      ]
    },
    {
      "cell_type": "code",
      "source": [
        "# import the dataset\n",
        "csvname = datapath + 'kleibers_law_data.csv'\n",
        "data = np.loadtxt(csvname,delimiter=',')\n",
        "x = data[:-1,:]\n",
        "y = data[-1:,:] \n",
        "\n",
        "# log-transform data\n",
        "x = np.log(x)\n",
        "y = np.log(y)"
      ],
      "metadata": {
        "id": "r9xpjKu-C6x5"
      },
      "execution_count": 4,
      "outputs": []
    },
    {
      "cell_type": "code",
      "source": [
        "x"
      ],
      "metadata": {
        "colab": {
          "base_uri": "https://localhost:8080/"
        },
        "id": "BwP8dNLSC9ey",
        "outputId": "70c56b76-8572-4e8f-a44c-d94976f6409a"
      },
      "execution_count": 5,
      "outputs": [
        {
          "output_type": "execute_result",
          "data": {
            "text/plain": [
              "array([[7.22256602, 7.13089883, 2.00148   , ..., 0.6805684 , 1.41585316,\n",
              "        1.47704872]])"
            ]
          },
          "metadata": {},
          "execution_count": 5
        }
      ]
    },
    {
      "cell_type": "code",
      "source": [
        "y"
      ],
      "metadata": {
        "colab": {
          "base_uri": "https://localhost:8080/"
        },
        "id": "0JE2oK9wC_7h",
        "outputId": "02b07eb2-ac65-4059-e5ab-c5d2e078df8f"
      },
      "execution_count": 6,
      "outputs": [
        {
          "output_type": "execute_result",
          "data": {
            "text/plain": [
              "array([[12.7512997 , 12.9408415 ,  8.03915739, ...,  7.27232895,\n",
              "         7.78155596,  7.77821147]])"
            ]
          },
          "metadata": {},
          "execution_count": 6
        }
      ]
    },
    {
      "cell_type": "code",
      "source": [
        "# compute linear combination of input point\n",
        "def model(x,w):\n",
        "  #complete the function\n",
        "    a = w[0] + np.dot(x.T,w[1:])\n",
        "    return a.T"
      ],
      "metadata": {
        "id": "bANPdmMbD2NS"
      },
      "execution_count": 7,
      "outputs": []
    },
    {
      "cell_type": "code",
      "source": [
        "np.random.seed(5819)\n",
        "w = 0.1*np.random.randn(2,1)\n",
        "w"
      ],
      "metadata": {
        "colab": {
          "base_uri": "https://localhost:8080/"
        },
        "id": "TBlVTggcECd0",
        "outputId": "e97c8a26-7a07-4585-826c-e204979b8761"
      },
      "execution_count": 8,
      "outputs": [
        {
          "output_type": "execute_result",
          "data": {
            "text/plain": [
              "array([[0.11146689],\n",
              "       [0.09940251]])"
            ]
          },
          "metadata": {},
          "execution_count": 8
        }
      ]
    },
    {
      "cell_type": "code",
      "source": [
        "z = model(x,w)\n",
        "z"
      ],
      "metadata": {
        "colab": {
          "base_uri": "https://localhost:8080/"
        },
        "id": "JsF4HetoEFry",
        "outputId": "b7abf0dd-3ced-41dd-be64-1fa29625365b"
      },
      "execution_count": 9,
      "outputs": [
        {
          "output_type": "execute_result",
          "data": {
            "text/plain": [
              "array([[0.8294081 , 0.82029615, 0.31041903, ..., 0.1791171 , 0.25220625,\n",
              "        0.25828925]])"
            ]
          },
          "metadata": {},
          "execution_count": 9
        }
      ]
    },
    {
      "cell_type": "code",
      "source": [
        "z.shape"
      ],
      "metadata": {
        "colab": {
          "base_uri": "https://localhost:8080/"
        },
        "id": "iMIIa6CaEI8k",
        "outputId": "88596271-7412-4f20-f179-23428971f816"
      },
      "execution_count": 10,
      "outputs": [
        {
          "output_type": "execute_result",
          "data": {
            "text/plain": [
              "(1, 1498)"
            ]
          },
          "metadata": {},
          "execution_count": 10
        }
      ]
    },
    {
      "cell_type": "code",
      "source": [
        "# an implementation of the least squares cost function for linear regression\n",
        "def least_squares(w):\n",
        "  # finish the implementation\n",
        "    cost = np.sum((model(x,w) - y)**2)\n",
        "    return cost/float(np.size(y))"
      ],
      "metadata": {
        "id": "amNv5kuAFAII"
      },
      "execution_count": 13,
      "outputs": []
    },
    {
      "cell_type": "code",
      "source": [
        "# import automatic differentiator to compute gradient module\n",
        "from autograd import grad \n",
        "\n",
        "# gradient descent function \n",
        "def gradient_descent(g,alpha,max_its,w):\n",
        "    # compute gradient module using autograd\n",
        "    gradient = grad(g)\n",
        "\n",
        "    # run the gradient descent loop\n",
        "    weight_history = [w] # weight history container\n",
        "    cost_history = [g(w)] # cost function history container\n",
        "    for k in range(max_its):\n",
        "        # evaluate the gradient\n",
        "        # finish the next line of code\n",
        "        grad_eval = gradient(w)\n",
        "\n",
        "        # take gradient descent step\n",
        "        # finish the next line of code\n",
        "        w = w - alpha*grad_eval\n",
        "        \n",
        "        # record weight and cost\n",
        "        weight_history.append(w)\n",
        "        cost_history.append(g(w))\n",
        "    return weight_history,cost_history"
      ],
      "metadata": {
        "id": "wiI986kIFb79"
      },
      "execution_count": 14,
      "outputs": []
    },
    {
      "cell_type": "code",
      "source": [
        "np.random.seed(5819)\n",
        "g = least_squares; w = 0.1*np.random.randn(2,1); max_its = 1000; alpha_choice = 10**(-2);\n",
        "weight_history, cost_history = gradient_descent(g,alpha_choice,max_its,w)"
      ],
      "metadata": {
        "id": "7o1qtG1nFmSU"
      },
      "execution_count": 15,
      "outputs": []
    },
    {
      "cell_type": "code",
      "source": [
        "%matplotlib inline\n",
        "import matplotlib.pyplot as plt\n",
        "\n",
        "plt.plot(cost_history);\n",
        "plt.xlabel(\"k\");\n",
        "plt.ylabel(\"g(w^k)\");"
      ],
      "metadata": {
        "colab": {
          "base_uri": "https://localhost:8080/",
          "height": 279
        },
        "id": "wkRtvMbAFo0B",
        "outputId": "35afcbfb-c2c1-4134-f89e-ec5e77e051c2"
      },
      "execution_count": 16,
      "outputs": [
        {
          "output_type": "display_data",
          "data": {
            "text/plain": [
              "<Figure size 432x288 with 1 Axes>"
            ],
            "image/png": "[encoded data removed]"
          },
          "metadata": {
            "needs_background": "light"
          }
        }
      ]
    },
    {
      "cell_type": "code",
      "source": [
        "# plot data with linear fit \n",
        "s = np.linspace(np.min(x),np.max(x))\n",
        "w = weight_history[-1]\n",
        "t = w[0] + w[1]*s\n",
        "\n",
        "figure = plt.figure()\n",
        "plt.plot(s,t,linewidth = 3,color = 'r')\n",
        "plt.scatter(x,y,linewidth = 1,c='k',edgecolor='w')\n",
        "plt.xlabel('log of mass (in kgs)')\n",
        "plt.ylabel('log of metabolic rate (in Js)')\n",
        "plt.show()"
      ],
      "metadata": {
        "colab": {
          "base_uri": "https://localhost:8080/",
          "height": 279
        },
        "id": "HXAfB7kfFsPK",
        "outputId": "5ffe68b5-0918-4d8f-c476-a2788a108164"
      },
      "execution_count": 17,
      "outputs": [
        {
          "output_type": "display_data",
          "data": {
            "text/plain": [
              "<Figure size 432x288 with 1 Axes>"
            ],
            "image/png": "[encoded data removed]"
          },
          "metadata": {
            "needs_background": "light"
          }
        }
      ]
    },
    {
      "cell_type": "markdown",
      "source": [
        "question 2\n"
      ],
      "metadata": {
        "id": "IASmhYITF8bT"
      }
    },
    {
      "cell_type": "code",
      "source": [
        "# using an automatic differentiator - like the one imported via the statement below - makes coding up gradient descent a breeze\n",
        "from autograd import grad \n",
        "from autograd import hessian\n",
        "\n",
        "# newtons method function - inputs: g (input function), max_its (maximum number of iterations), w (initialization)\n",
        "def newtons_method(g,max_its,w,**kwargs):\n",
        "    # compute gradient module using autograd\n",
        "    # finish the next line of code\n",
        "    gradient = grad(g)\n",
        "    hess = hessian(g)\n",
        "    \n",
        "    # set numericxal stability parameter / regularization parameter\n",
        "    epsilon = 10**(-10)\n",
        "    if 'epsilon' in kwargs:\n",
        "        epsilon = kwargs['epsilon']\n",
        "\n",
        "    # run the newtons method loop\n",
        "    weight_history = [w]           # container for weight history\n",
        "    cost_history = [g(w)]          # container for corresponding cost function history\n",
        "    for k in range(max_its):\n",
        "        # evaluate the gradient and hessian\n",
        "        # finish the next line of code\n",
        "        grad_eval = gradient(w)\n",
        "        hess_eval = hess(w)\n",
        "\n",
        "        # reshape hessian to square matrix for numpy linalg functionality\n",
        "        hess_eval.shape = (int((np.size(hess_eval))**(0.5)),int((np.size(hess_eval))**(0.5)))\n",
        "        \n",
        "        # solve second order system system for weight update\n",
        "        A = hess_eval + epsilon*np.eye(w.size)\n",
        "        b = grad_eval\n",
        "        w = np.linalg.solve(A,np.dot(A,w) - b)\n",
        "        \n",
        "        # record weight and cost\n",
        "        weight_history.append(w)\n",
        "        cost_history.append(g(w))\n",
        "    return weight_history,cost_history"
      ],
      "metadata": {
        "id": "sT7R4OJiF-n8"
      },
      "execution_count": 18,
      "outputs": []
    },
    {
      "cell_type": "code",
      "source": [
        "# load in data\n",
        "csvname = datapath + '3d_linregress_data.csv'\n",
        "data = np.loadtxt(csvname,delimiter=',')\n",
        "x = data[:-1,:]\n",
        "y = data[-1:,:]"
      ],
      "metadata": {
        "id": "Q-6SUjVqGX_t"
      },
      "execution_count": 19,
      "outputs": []
    },
    {
      "cell_type": "code",
      "source": [
        "np.random.seed(5819)\n",
        "# run gradient descent to minimize the Least Squares cost for linear regression\n",
        "g = least_squares; w = 0.1*np.random.randn(3,1); max_its = 1; alpha_choice = 10**(-2);\n",
        "weight_history, cost_history = newtons_method(g,max_its,w)"
      ],
      "metadata": {
        "id": "Da9GJYXxGaf_"
      },
      "execution_count": 20,
      "outputs": []
    },
    {
      "cell_type": "code",
      "source": [
        "%matplotlib inline\n",
        "import matplotlib.pyplot as plt\n",
        "\n",
        "plt.plot(cost_history);\n",
        "plt.xlabel(\"k\");\n",
        "plt.ylabel(\"g(w^k)\");"
      ],
      "metadata": {
        "colab": {
          "base_uri": "https://localhost:8080/",
          "height": 279
        },
        "id": "zIiJ29afGbdx",
        "outputId": "eed60cba-46ee-4f6e-cd2b-1be24a640e24"
      },
      "execution_count": 21,
      "outputs": [
        {
          "output_type": "display_data",
          "data": {
            "text/plain": [
              "<Figure size 432x288 with 1 Axes>"
            ],
            "image/png": "[encoded data removed]"
          },
          "metadata": {
            "needs_background": "light"
          }
        }
      ]
    },
    {
      "cell_type": "markdown",
      "source": [
        "question 3"
      ],
      "metadata": {
        "id": "6R89bKFgGfV8"
      }
    },
    {
      "cell_type": "code",
      "source": [
        "# load in dataset\n",
        "data = np.loadtxt(datapath + 'regression_outliers.csv',delimiter = ',')\n",
        "x = data[:-1,:]\n",
        "y = data[-1:,:]"
      ],
      "metadata": {
        "id": "dSktAQU1Gg6A"
      },
      "execution_count": 22,
      "outputs": []
    },
    {
      "cell_type": "code",
      "source": [
        "x"
      ],
      "metadata": {
        "colab": {
          "base_uri": "https://localhost:8080/"
        },
        "id": "z-Po-oJ2GkWV",
        "outputId": "b2ad2b83-5fe1-4c5a-8116-3c2c2919019b"
      },
      "execution_count": 23,
      "outputs": [
        {
          "output_type": "execute_result",
          "data": {
            "text/plain": [
              "array([[-0.37218035, -0.63010455, -1.15072305,  0.93361692, -0.83197503,\n",
              "        -1.65698849,  1.12408201, -0.39301979, -0.73269533,  0.45221453]])"
            ]
          },
          "metadata": {},
          "execution_count": 23
        }
      ]
    },
    {
      "cell_type": "code",
      "source": [
        "y"
      ],
      "metadata": {
        "colab": {
          "base_uri": "https://localhost:8080/"
        },
        "id": "OSmCxuIHGmNu",
        "outputId": "a28673d2-ad5c-4b72-8699-b77ba4a67916"
      },
      "execution_count": 24,
      "outputs": [
        {
          "output_type": "execute_result",
          "data": {
            "text/plain": [
              "array([[-1.17480346, -1.85639076, -2.25663055,  9.9945483 , -1.7108687 ,\n",
              "        -2.68226569,  0.19151539, -1.24701316, -1.68401811, -0.62446651]])"
            ]
          },
          "metadata": {},
          "execution_count": 24
        }
      ]
    },
    {
      "cell_type": "code",
      "source": [
        "%matplotlib inline\n",
        "import matplotlib.pyplot as plt\n",
        "\n",
        "plt.scatter(x,y);\n",
        "plt.xlabel(\"x\");\n",
        "plt.ylabel(\"y\");"
      ],
      "metadata": {
        "colab": {
          "base_uri": "https://localhost:8080/",
          "height": 279
        },
        "id": "HsJ25PgrGogr",
        "outputId": "4a34bee8-6e34-44d5-847e-c9e749816ac9"
      },
      "execution_count": 25,
      "outputs": [
        {
          "output_type": "display_data",
          "data": {
            "text/plain": [
              "<Figure size 432x288 with 1 Axes>"
            ],
            "image/png": "[encoded data removed]"
          },
          "metadata": {
            "needs_background": "light"
          }
        }
      ]
    },
    {
      "cell_type": "code",
      "source": [
        "# compute linear combination of input point\n",
        "def model(x,w):\n",
        "  # finish the implementation\n",
        "  a = w[0] + np.dot(x.T, w[1:])\n",
        "  return a.T"
      ],
      "metadata": {
        "id": "eZz7q0MGHIWe"
      },
      "execution_count": 26,
      "outputs": []
    },
    {
      "cell_type": "code",
      "source": [
        "# an implementation of the least squares cost function for linear regression\n",
        "def least_squares(w):\n",
        "  # finish the implementation\n",
        "  # compute the least squares cost\n",
        "  cost = np.sum((model(x,w) - y)**2)\n",
        "  return cost/float(np.size(y))"
      ],
      "metadata": {
        "id": "53-0iifwHNmI"
      },
      "execution_count": 27,
      "outputs": []
    },
    {
      "cell_type": "code",
      "source": [
        "# a compact least absolute deviations cost function\n",
        "def least_absolute_deviations(w):\n",
        "  # finish the imeplementation\n",
        "  cost = np.sum(np.abs(model(x,w) - y))\n",
        "  return cost/float(np.size(y))"
      ],
      "metadata": {
        "id": "W1AVunt6HXey"
      },
      "execution_count": 28,
      "outputs": []
    },
    {
      "cell_type": "code",
      "source": [
        "np.random.seed(5819)\n",
        "# run gradient descent to minimize the Least Squares cost for linear regression\n",
        "g = least_squares; w = np.array([1.0,1.0])[:,np.newaxis]; max_its = 100; alpha_choice = 10**(-1);\n",
        "weight_history_1,cost_history_1 = gradient_descent(g,alpha_choice,max_its,w)\n",
        "\n",
        "np.random.seed(5819)\n",
        "# run gradient descent to minimize the Least Squares cost for linear regression\n",
        "g = least_absolute_deviations; w = np.array([1.0,1.0])[:,np.newaxis]; max_its = 100; alpha_choice = 10**(-1);\n",
        "weight_history_2,cost_history_2 = gradient_descent(g,alpha_choice,max_its,w)"
      ],
      "metadata": {
        "id": "Rjf8hxrTHdm6"
      },
      "execution_count": 29,
      "outputs": []
    },
    {
      "cell_type": "code",
      "source": [
        "%matplotlib inline\n",
        "import matplotlib.pyplot as plt\n",
        "\n",
        "plt.plot(np.sqrt(np.array(cost_history_1)));\n",
        "#plt.plot(cost_history_1);\n",
        "plt.plot(cost_history_2);\n",
        "plt.xlabel(\"k\");\n",
        "plt.ylabel(\"g\");\n",
        "plt.legend([\"least squares (rooted mean square error)\", \"least absolute deviations\"]);"
      ],
      "metadata": {
        "colab": {
          "base_uri": "https://localhost:8080/",
          "height": 279
        },
        "id": "8294QBMkJlW_",
        "outputId": "914d2668-8b8a-4d7c-fd62-efaece8fd0a9"
      },
      "execution_count": 30,
      "outputs": [
        {
          "output_type": "display_data",
          "data": {
            "text/plain": [
              "<Figure size 432x288 with 1 Axes>"
            ],
            "image/png": "[encoded data removed]"
          },
          "metadata": {
            "needs_background": "light"
          }
        }
      ]
    },
    {
      "cell_type": "code",
      "source": [
        "# find best set of weights from gradient descent run on Least Absolute Deviations cost \n",
        "ind = np.argmin(cost_history_1)\n",
        "# finish the next line of code\n",
        "least_weights = weight_history_1[ind]\n",
        "ind = np.argmin(cost_history_2)\n",
        "# finish the next line of code\n",
        "absolute_weights = weight_history_2[ind]\n",
        "s = np.linspace(np.min(x),np.max(x))\n",
        "w = least_weights\n",
        "# finish the next line of code\n",
        "t = w[0] + w[1]*s\n",
        "w = absolute_weights\n",
        "# finish the next line of code\n",
        "u = w[0] + w[1]*s\n",
        "\n",
        "figure = plt.figure()\n",
        "plt.plot(s,t,linewidth = 3)\n",
        "plt.plot(s,u,linewidth = 3)\n",
        "plt.scatter(x,y,linewidth = 1,c='k',edgecolor='w')\n",
        "plt.xlabel('x')\n",
        "plt.ylabel('y')\n",
        "plt.show()"
      ],
      "metadata": {
        "colab": {
          "base_uri": "https://localhost:8080/",
          "height": 279
        },
        "id": "USG-EKTzYpbA",
        "outputId": "ebea5006-f92e-43db-d9ee-ac51396ad8be"
      },
      "execution_count": 31,
      "outputs": [
        {
          "output_type": "display_data",
          "data": {
            "text/plain": [
              "<Figure size 432x288 with 1 Axes>"
            ],
            "image/png": "[encoded data removed]"
          },
          "metadata": {
            "needs_background": "light"
          }
        }
      ]
    }
  ]
}